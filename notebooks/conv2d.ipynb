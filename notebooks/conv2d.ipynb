{
 "cells": [
  {
   "cell_type": "code",
   "execution_count": 32,
   "metadata": {},
   "outputs": [],
   "source": [
    "import numpy as np\n",
    "np.random.seed(42)\n",
    "import pandas as pd\n",
    "\n",
    "from sklearn.model_selection import train_test_split\n",
    "from sklearn.metrics import roc_auc_score\n",
    "\n",
    "from keras.models import Model\n",
    "from keras.layers import (Input, Dense, Embedding, concatenate, Reshape, BatchNormalization,\n",
    "                          GRU, Bidirectional, Conv2D, Activation, Dropout, MaxPooling2D, Flatten, AveragePooling2D)\n",
    "from keras.preprocessing import text, sequence\n",
    "from keras.callbacks import Callback, ModelCheckpoint, EarlyStopping"
   ]
  },
  {
   "cell_type": "code",
   "execution_count": 2,
   "metadata": {},
   "outputs": [],
   "source": [
    "import os\n",
    "import sys\n",
    "src_dir = os.path.join(os.getcwd(), os.pardir, 'src')\n",
    "sys.path.append(src_dir)"
   ]
  },
  {
   "cell_type": "code",
   "execution_count": 3,
   "metadata": {},
   "outputs": [],
   "source": [
    "from AttentionWithContext import AttentionWithContext"
   ]
  },
  {
   "cell_type": "code",
   "execution_count": 44,
   "metadata": {},
   "outputs": [],
   "source": [
    "train = pd.read_csv('../data/train.csv')\n",
    "test = pd.read_csv('../data/test.csv')\n",
    "submission = pd.read_csv('../data/sample_submission.csv')"
   ]
  },
  {
   "cell_type": "code",
   "execution_count": 45,
   "metadata": {},
   "outputs": [],
   "source": [
    "X = train[\"comment_text\"].fillna(\"UNK\").values\n",
    "y = train[[\"toxic\", \"severe_toxic\", \"obscene\", \"threat\", \"insult\", \"identity_hate\"]].values\n",
    "X_test = test[\"comment_text\"].fillna(\"UNK\").values"
   ]
  },
  {
   "cell_type": "code",
   "execution_count": 46,
   "metadata": {},
   "outputs": [],
   "source": [
    "max_features = 30000\n",
    "maxlen = 150\n",
    "embed_size = 300"
   ]
  },
  {
   "cell_type": "code",
   "execution_count": 47,
   "metadata": {},
   "outputs": [],
   "source": [
    "tokenizer = text.Tokenizer(num_words=max_features)\n",
    "tokenizer.fit_on_texts(list(X) + list(X_test))\n",
    "X = tokenizer.texts_to_sequences(X)\n",
    "X_test = tokenizer.texts_to_sequences(X_test)\n",
    "X = sequence.pad_sequences(X, maxlen=maxlen)\n",
    "X_test = sequence.pad_sequences(X_test, maxlen=maxlen)"
   ]
  },
  {
   "cell_type": "code",
   "execution_count": 8,
   "metadata": {},
   "outputs": [
    {
     "name": "stdout",
     "output_type": "stream",
     "text": [
      "glove.42B.300d.txt  glove.840B.300d.txt  wiki-news-300d-1M.vec\r\n",
      "glove.42B.300d.zip  glove.840B.300d.zip  wiki-news-300d-1M.vec.zip\r\n"
     ]
    }
   ],
   "source": [
    "! ls ../embeddings/"
   ]
  },
  {
   "cell_type": "code",
   "execution_count": 9,
   "metadata": {},
   "outputs": [],
   "source": [
    "EMBEDDING_FILE = '../embeddings/glove.42B.300d.txt'\n",
    "def get_coefs(word, *arr):\n",
    "    return word, np.asarray(arr, dtype='float32')\n",
    "\n",
    "embeddings_index = dict(get_coefs(*o.strip().split()) for o in open(EMBEDDING_FILE, encoding='utf8'))"
   ]
  },
  {
   "cell_type": "code",
   "execution_count": 10,
   "metadata": {},
   "outputs": [],
   "source": [
    "all_embs = np.stack(embeddings_index.values())\n",
    "emb_mean, emb_std = all_embs.mean(), all_embs.std()\n",
    "\n",
    "word_index = tokenizer.word_index\n",
    "nb_words = min(max_features, len(word_index))\n",
    "embedding_matrix = np.random.normal(emb_mean, emb_std, (nb_words, embed_size))\n",
    "for word, i in word_index.items():\n",
    "    if i >= max_features: continue\n",
    "    embedding_vector = embeddings_index.get(word)\n",
    "    if embedding_vector is not None: embedding_matrix[i] = embedding_vector"
   ]
  },
  {
   "cell_type": "code",
   "execution_count": 11,
   "metadata": {},
   "outputs": [],
   "source": [
    "class RocAucEvaluation(Callback):\n",
    "    def __init__(self, validation_data=(), interval=1):\n",
    "        super(Callback, self).__init__()\n",
    "\n",
    "        self.interval = interval\n",
    "        self.X_val, self.y_val = validation_data\n",
    "\n",
    "    def on_epoch_end(self, epoch, logs={}):\n",
    "        if epoch % self.interval == 0:\n",
    "            y_pred = self.model.predict(self.X_val, verbose=0)\n",
    "            score = roc_auc_score(self.y_val, y_pred)\n",
    "            print(\"\\n ROC-AUC - epoch: %d - score: %.6f \\n\" % (epoch+1, score))"
   ]
  },
  {
   "cell_type": "code",
   "execution_count": 33,
   "metadata": {},
   "outputs": [],
   "source": [
    "def conv_block(x, filter_size, sequence_length, embedding_dim):\n",
    "    x = Conv2D(64, (filter_size, embedding_dim))(x)\n",
    "    x = BatchNormalization()(x)\n",
    "    x = Activation('relu')(x)\n",
    "    x = Dropout(0.2)(x)\n",
    "    x = AveragePooling2D((sequence_length - filter_size + 1, 1), strides=(1,1))(x)\n",
    "    x = Flatten()(x)\n",
    "    return x"
   ]
  },
  {
   "cell_type": "code",
   "execution_count": 34,
   "metadata": {},
   "outputs": [],
   "source": [
    "comment_input = Input(shape=(maxlen,), dtype='int32')\n",
    "\n",
    "x = Embedding(nb_words, embed_size, weights=[embedding_matrix], trainable=True)(comment_input)\n",
    "\n",
    "x = Reshape((maxlen, embed_size, 1))(x)\n",
    "conv1 = conv_block(x, 4, maxlen, embed_size)\n",
    "conv2 = conv_block(x, 5, maxlen, embed_size)\n",
    "conv3 = conv_block(x, 6, maxlen, embed_size)\n",
    "\n",
    "x = concatenate([conv1, conv2, conv3])\n",
    "\n",
    "x = Dense(100)(x)\n",
    "x = BatchNormalization()(x)\n",
    "x = Activation('relu')(x)\n",
    "x = Dropout(0.2)(x)\n",
    "\n",
    "predictions = Dense(6, activation='sigmoid')(x)"
   ]
  },
  {
   "cell_type": "code",
   "execution_count": 48,
   "metadata": {},
   "outputs": [],
   "source": [
    "model = Model(comment_input, predictions)\n",
    "model.compile(loss='binary_crossentropy', optimizer='rmsprop', metrics=['acc'])"
   ]
  },
  {
   "cell_type": "code",
   "execution_count": 49,
   "metadata": {},
   "outputs": [
    {
     "name": "stdout",
     "output_type": "stream",
     "text": [
      "__________________________________________________________________________________________________\n",
      "Layer (type)                    Output Shape         Param #     Connected to                     \n",
      "==================================================================================================\n",
      "input_9 (InputLayer)            (None, 300)          0                                            \n",
      "__________________________________________________________________________________________________\n",
      "embedding_9 (Embedding)         (None, 300, 300)     9000000     input_9[0][0]                    \n",
      "__________________________________________________________________________________________________\n",
      "reshape_8 (Reshape)             (None, 300, 300, 1)  0           embedding_9[0][0]                \n",
      "__________________________________________________________________________________________________\n",
      "conv2d_9 (Conv2D)               (None, 297, 1, 64)   76864       reshape_8[0][0]                  \n",
      "__________________________________________________________________________________________________\n",
      "conv2d_10 (Conv2D)              (None, 296, 1, 64)   96064       reshape_8[0][0]                  \n",
      "__________________________________________________________________________________________________\n",
      "conv2d_11 (Conv2D)              (None, 295, 1, 64)   115264      reshape_8[0][0]                  \n",
      "__________________________________________________________________________________________________\n",
      "batch_normalization_9 (BatchNor (None, 297, 1, 64)   256         conv2d_9[0][0]                   \n",
      "__________________________________________________________________________________________________\n",
      "batch_normalization_10 (BatchNo (None, 296, 1, 64)   256         conv2d_10[0][0]                  \n",
      "__________________________________________________________________________________________________\n",
      "batch_normalization_11 (BatchNo (None, 295, 1, 64)   256         conv2d_11[0][0]                  \n",
      "__________________________________________________________________________________________________\n",
      "activation_8 (Activation)       (None, 297, 1, 64)   0           batch_normalization_9[0][0]      \n",
      "__________________________________________________________________________________________________\n",
      "activation_9 (Activation)       (None, 296, 1, 64)   0           batch_normalization_10[0][0]     \n",
      "__________________________________________________________________________________________________\n",
      "activation_10 (Activation)      (None, 295, 1, 64)   0           batch_normalization_11[0][0]     \n",
      "__________________________________________________________________________________________________\n",
      "dropout_7 (Dropout)             (None, 297, 1, 64)   0           activation_8[0][0]               \n",
      "__________________________________________________________________________________________________\n",
      "dropout_8 (Dropout)             (None, 296, 1, 64)   0           activation_9[0][0]               \n",
      "__________________________________________________________________________________________________\n",
      "dropout_9 (Dropout)             (None, 295, 1, 64)   0           activation_10[0][0]              \n",
      "__________________________________________________________________________________________________\n",
      "average_pooling2d_1 (AveragePoo (None, 1, 1, 64)     0           dropout_7[0][0]                  \n",
      "__________________________________________________________________________________________________\n",
      "average_pooling2d_2 (AveragePoo (None, 1, 1, 64)     0           dropout_8[0][0]                  \n",
      "__________________________________________________________________________________________________\n",
      "average_pooling2d_3 (AveragePoo (None, 1, 1, 64)     0           dropout_9[0][0]                  \n",
      "__________________________________________________________________________________________________\n",
      "flatten_4 (Flatten)             (None, 64)           0           average_pooling2d_1[0][0]        \n",
      "__________________________________________________________________________________________________\n",
      "flatten_5 (Flatten)             (None, 64)           0           average_pooling2d_2[0][0]        \n",
      "__________________________________________________________________________________________________\n",
      "flatten_6 (Flatten)             (None, 64)           0           average_pooling2d_3[0][0]        \n",
      "__________________________________________________________________________________________________\n",
      "concatenate_2 (Concatenate)     (None, 192)          0           flatten_4[0][0]                  \n",
      "                                                                 flatten_5[0][0]                  \n",
      "                                                                 flatten_6[0][0]                  \n",
      "__________________________________________________________________________________________________\n",
      "dense_3 (Dense)                 (None, 100)          19300       concatenate_2[0][0]              \n",
      "__________________________________________________________________________________________________\n",
      "batch_normalization_12 (BatchNo (None, 100)          400         dense_3[0][0]                    \n",
      "__________________________________________________________________________________________________\n",
      "activation_11 (Activation)      (None, 100)          0           batch_normalization_12[0][0]     \n",
      "__________________________________________________________________________________________________\n",
      "dropout_10 (Dropout)            (None, 100)          0           activation_11[0][0]              \n",
      "__________________________________________________________________________________________________\n",
      "dense_4 (Dense)                 (None, 6)            606         dropout_10[0][0]                 \n",
      "==================================================================================================\n",
      "Total params: 9,309,266\n",
      "Trainable params: 9,308,682\n",
      "Non-trainable params: 584\n",
      "__________________________________________________________________________________________________\n"
     ]
    }
   ],
   "source": [
    "model.summary()"
   ]
  },
  {
   "cell_type": "code",
   "execution_count": 38,
   "metadata": {},
   "outputs": [],
   "source": [
    "X_train, X_val, y_train, y_val = train_test_split(X, y, test_size=0.05, random_state=42)"
   ]
  },
  {
   "cell_type": "code",
   "execution_count": 39,
   "metadata": {},
   "outputs": [],
   "source": [
    "early_stopping = EarlyStopping(monitor='val_loss', patience=5)\n",
    "RocAuc = RocAucEvaluation(validation_data=(X_val, y_val), interval=1)\n",
    "model_ckpt = ModelCheckpoint(filepath='../models/conv2d-{epoch:02d}.h5', save_best_only=True)\n",
    "callbacks = [model_ckpt, RocAuc, early_stopping]"
   ]
  },
  {
   "cell_type": "code",
   "execution_count": 50,
   "metadata": {},
   "outputs": [
    {
     "name": "stdout",
     "output_type": "stream",
     "text": [
      "Train on 151592 samples, validate on 7979 samples\n",
      "Epoch 1/10\n",
      "151592/151592 [==============================] - 153s 1ms/step - loss: 0.0426 - acc: 0.9841 - val_loss: 2.6935 - val_acc: 0.6172\n",
      "\n",
      " ROC-AUC - epoch: 1 - score: 0.834620 \n",
      "\n",
      "Epoch 2/10\n",
      "151592/151592 [==============================] - 151s 996us/step - loss: 0.0374 - acc: 0.9857 - val_loss: 0.4829 - val_acc: 0.9653\n",
      "\n",
      " ROC-AUC - epoch: 2 - score: 0.862761 \n",
      "\n",
      "Epoch 3/10\n",
      "151592/151592 [==============================] - 151s 994us/step - loss: 0.0353 - acc: 0.9866 - val_loss: 0.3522 - val_acc: 0.9670\n",
      "\n",
      " ROC-AUC - epoch: 3 - score: 0.922781 \n",
      "\n",
      "Epoch 4/10\n",
      "151592/151592 [==============================] - 151s 995us/step - loss: 0.0337 - acc: 0.9871 - val_loss: 0.9835 - val_acc: 0.7041\n",
      "\n",
      " ROC-AUC - epoch: 4 - score: 0.916757 \n",
      "\n",
      "Epoch 5/10\n",
      "151592/151592 [==============================] - 151s 995us/step - loss: 0.0323 - acc: 0.9877 - val_loss: 0.9119 - val_acc: 0.7477\n",
      "\n",
      " ROC-AUC - epoch: 5 - score: 0.918577 \n",
      "\n",
      "Epoch 6/10\n",
      "151592/151592 [==============================] - 151s 994us/step - loss: 0.0311 - acc: 0.9882 - val_loss: 0.2136 - val_acc: 0.9733\n",
      "\n",
      " ROC-AUC - epoch: 6 - score: 0.976375 \n",
      "\n",
      "Epoch 7/10\n",
      "151592/151592 [==============================] - 151s 994us/step - loss: 0.0300 - acc: 0.9888 - val_loss: 0.1310 - val_acc: 0.9769\n",
      "\n",
      " ROC-AUC - epoch: 7 - score: 0.975498 \n",
      "\n",
      "Epoch 8/10\n",
      "151592/151592 [==============================] - 151s 994us/step - loss: 0.0291 - acc: 0.9891 - val_loss: 0.3708 - val_acc: 0.8627\n",
      "\n",
      " ROC-AUC - epoch: 8 - score: 0.920013 \n",
      "\n",
      "Epoch 9/10\n",
      "151592/151592 [==============================] - 151s 994us/step - loss: 0.0280 - acc: 0.9896 - val_loss: 0.3342 - val_acc: 0.9682\n",
      "\n",
      " ROC-AUC - epoch: 9 - score: 0.966472 \n",
      "\n",
      "Epoch 10/10\n",
      "151592/151592 [==============================] - 150s 992us/step - loss: 0.0269 - acc: 0.9899 - val_loss: 0.0842 - val_acc: 0.9810\n",
      "\n",
      " ROC-AUC - epoch: 10 - score: 0.963134 \n",
      "\n"
     ]
    }
   ],
   "source": [
    "hist = model.fit(X_train, y_train, batch_size=256, epochs=10, validation_data=(X_val, y_val), callbacks=callbacks)"
   ]
  },
  {
   "cell_type": "code",
   "execution_count": 60,
   "metadata": {},
   "outputs": [
    {
     "data": {
      "text/plain": [
       "<matplotlib.axes._subplots.AxesSubplot at 0x7f899a4f0860>"
      ]
     },
     "execution_count": 60,
     "metadata": {},
     "output_type": "execute_result"
    },
    {
     "data": {
      "image/png": "[encoded data removed]",
      "text/plain": [
       "<matplotlib.figure.Figure at 0x7f899a4e71d0>"
      ]
     },
     "metadata": {},
     "output_type": "display_data"
    }
   ],
   "source": [
    "%matplotlib inline\n",
    "pd.DataFrame(hist.history).drop(['acc', 'val_acc'], axis=1).plot()"
   ]
  },
  {
   "cell_type": "code",
   "execution_count": 67,
   "metadata": {},
   "outputs": [],
   "source": [
    "model.load_weights('../models/GRU_pooling_att-03.h5')"
   ]
  },
  {
   "cell_type": "code",
   "execution_count": 68,
   "metadata": {},
   "outputs": [
    {
     "name": "stdout",
     "output_type": "stream",
     "text": [
      "7979/7979 [==============================] - 11s 1ms/step\n"
     ]
    },
    {
     "data": {
      "text/plain": [
       "0.9870584633776445"
      ]
     },
     "execution_count": 68,
     "metadata": {},
     "output_type": "execute_result"
    }
   ],
   "source": [
    "y_pred = model.predict(X_val, verbose=1)\n",
    "roc_auc_score(y_val, y_pred)"
   ]
  },
  {
   "cell_type": "code",
   "execution_count": 69,
   "metadata": {},
   "outputs": [
    {
     "name": "stdout",
     "output_type": "stream",
     "text": [
      "153164/153164 [==============================] - 18s 116us/step\n"
     ]
    }
   ],
   "source": [
    "y_pred = model.predict(X_test, batch_size=1024, verbose=True)\n",
    "submission[[\"toxic\", \"severe_toxic\", \"obscene\", \"threat\", \"insult\", \"identity_hate\"]] = y_pred\n",
    "submission.to_csv('GRU_pooling_att.csv', index=False)"
   ]
  },
  {
   "cell_type": "code",
   "execution_count": 72,
   "metadata": {},
   "outputs": [],
   "source": [
    "features = pd.DataFrame(columns=submission.columns)\n",
    "features['id'] = train.id"
   ]
  },
  {
   "cell_type": "code",
   "execution_count": 74,
   "metadata": {},
   "outputs": [
    {
     "name": "stdout",
     "output_type": "stream",
     "text": [
      "159571/159571 [==============================] - 18s 111us/step\n"
     ]
    }
   ],
   "source": [
    "features[[\"toxic\", \"severe_toxic\", \"obscene\", \"threat\", \"insult\", \"identity_hate\"]] = model.predict(X, batch_size=1014, verbose=1)"
   ]
  },
  {
   "cell_type": "code",
   "execution_count": 75,
   "metadata": {},
   "outputs": [
    {
     "data": {
      "text/html": [
       "<div>\n",
       "<style scoped>\n",
       "    .dataframe tbody tr th:only-of-type {\n",
       "        vertical-align: middle;\n",
       "    }\n",
       "\n",
       "    .dataframe tbody tr th {\n",
       "        vertical-align: top;\n",
       "    }\n",
       "\n",
       "    .dataframe thead th {\n",
       "        text-align: right;\n",
       "    }\n",
       "</style>\n",
       "<table border=\"1\" class=\"dataframe\">\n",
       "  <thead>\n",
       "    <tr style=\"text-align: right;\">\n",
       "      <th></th>\n",
       "      <th>id</th>\n",
       "      <th>toxic</th>\n",
       "      <th>severe_toxic</th>\n",
       "      <th>obscene</th>\n",
       "      <th>threat</th>\n",
       "      <th>insult</th>\n",
       "      <th>identity_hate</th>\n",
       "    </tr>\n",
       "  </thead>\n",
       "  <tbody>\n",
       "    <tr>\n",
       "      <th>0</th>\n",
       "      <td>0000997932d777bf</td>\n",
       "      <td>0.000674319</td>\n",
       "      <td>1.87721e-05</td>\n",
       "      <td>0.000171977</td>\n",
       "      <td>1.51876e-05</td>\n",
       "      <td>7.7457e-05</td>\n",
       "      <td>1.94247e-05</td>\n",
       "    </tr>\n",
       "    <tr>\n",
       "      <th>1</th>\n",
       "      <td>000103f0d9cfb60f</td>\n",
       "      <td>0.000911014</td>\n",
       "      <td>3.11073e-05</td>\n",
       "      <td>0.000208484</td>\n",
       "      <td>3.59529e-05</td>\n",
       "      <td>0.000130883</td>\n",
       "      <td>3.9355e-05</td>\n",
       "    </tr>\n",
       "    <tr>\n",
       "      <th>2</th>\n",
       "      <td>000113f07ec002fd</td>\n",
       "      <td>0.000978641</td>\n",
       "      <td>2.6564e-05</td>\n",
       "      <td>0.000258425</td>\n",
       "      <td>2.97287e-05</td>\n",
       "      <td>0.000145068</td>\n",
       "      <td>2.49281e-05</td>\n",
       "    </tr>\n",
       "    <tr>\n",
       "      <th>3</th>\n",
       "      <td>0001b41b1c6bb37e</td>\n",
       "      <td>0.00105188</td>\n",
       "      <td>2.96333e-05</td>\n",
       "      <td>0.000463428</td>\n",
       "      <td>6.10375e-05</td>\n",
       "      <td>0.000252591</td>\n",
       "      <td>3.7953e-05</td>\n",
       "    </tr>\n",
       "    <tr>\n",
       "      <th>4</th>\n",
       "      <td>0001d958c54c6e35</td>\n",
       "      <td>0.0374333</td>\n",
       "      <td>0.00035993</td>\n",
       "      <td>0.00407036</td>\n",
       "      <td>0.00167597</td>\n",
       "      <td>0.00852164</td>\n",
       "      <td>0.000506446</td>\n",
       "    </tr>\n",
       "  </tbody>\n",
       "</table>\n",
       "</div>"
      ],
      "text/plain": [
       "                 id        toxic severe_toxic      obscene       threat  \\\n",
       "0  0000997932d777bf  0.000674319  1.87721e-05  0.000171977  1.51876e-05   \n",
       "1  000103f0d9cfb60f  0.000911014  3.11073e-05  0.000208484  3.59529e-05   \n",
       "2  000113f07ec002fd  0.000978641   2.6564e-05  0.000258425  2.97287e-05   \n",
       "3  0001b41b1c6bb37e   0.00105188  2.96333e-05  0.000463428  6.10375e-05   \n",
       "4  0001d958c54c6e35    0.0374333   0.00035993   0.00407036   0.00167597   \n",
       "\n",
       "        insult identity_hate  \n",
       "0   7.7457e-05   1.94247e-05  \n",
       "1  0.000130883    3.9355e-05  \n",
       "2  0.000145068   2.49281e-05  \n",
       "3  0.000252591    3.7953e-05  \n",
       "4   0.00852164   0.000506446  "
      ]
     },
     "execution_count": 75,
     "metadata": {},
     "output_type": "execute_result"
    }
   ],
   "source": [
    "features.head()"
   ]
  },
  {
   "cell_type": "code",
   "execution_count": 76,
   "metadata": {},
   "outputs": [],
   "source": [
    "features.to_csv('../data/features/features_GRU_pooling_att.csv', index=False)"
   ]
  }
 ],
 "metadata": {
  "kernelspec": {
   "display_name": "Python [conda env:tensorflow]",
   "language": "python",
   "name": "conda-env-tensorflow-py"
  },
  "language_info": {
   "codemirror_mode": {
    "name": "ipython",
    "version": 3
   },
   "file_extension": ".py",
   "mimetype": "text/x-python",
   "name": "python",
   "nbconvert_exporter": "python",
   "pygments_lexer": "ipython3",
   "version": "3.6.4"
  }
 },
 "nbformat": 4,
 "nbformat_minor": 2
}
