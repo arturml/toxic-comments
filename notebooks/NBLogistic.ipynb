{
 "cells": [
  {
   "cell_type": "code",
   "execution_count": 1,
   "metadata": {
    "nbpresent": {
     "id": "01605dc5-eab0-482d-ac60-88c63b0c1deb"
    }
   },
   "outputs": [],
   "source": [
    "%matplotlib inline\n",
    "%load_ext autoreload"
   ]
  },
  {
   "cell_type": "code",
   "execution_count": 2,
   "metadata": {
    "nbpresent": {
     "id": "f4e8eb46-31c2-40a8-8914-614cb4a2b0fb"
    }
   },
   "outputs": [],
   "source": [
    "import os\n",
    "import sys\n",
    "\n",
    "src_dir = os.path.join(os.getcwd(), os.pardir, 'src')\n",
    "sys.path.append(src_dir)"
   ]
  },
  {
   "cell_type": "code",
   "execution_count": 3,
   "metadata": {
    "nbpresent": {
     "id": "9316de0b-0be7-4254-ba86-4cf6a235e99d"
    }
   },
   "outputs": [],
   "source": [
    "import pandas as pd\n",
    "import re\n",
    "import string\n",
    "import numpy as np\n",
    "from sklearn.feature_extraction.text import TfidfVectorizer\n",
    "from sklearn.model_selection import cross_val_score, train_test_split, GridSearchCV\n",
    "from sklearn.metrics import log_loss, roc_auc_score, confusion_matrix\n",
    "from sklearn.pipeline import Pipeline\n",
    "%aimport nbmodels\n",
    "from nbmodels import NbLogisticClassifier\n",
    "from nbextractor import NBExtractor\n",
    "from sklearn.linear_model import LogisticRegression, LogisticRegressionCV\n",
    "from sklearn.multiclass import OneVsRestClassifier"
   ]
  },
  {
   "cell_type": "code",
   "execution_count": 4,
   "metadata": {
    "nbpresent": {
     "id": "4c20f0aa-8415-40cd-9208-04a950534416"
    }
   },
   "outputs": [],
   "source": [
    "train = pd.read_csv('../data/train.csv')\n",
    "test = pd.read_csv('../data/test.csv')"
   ]
  },
  {
   "cell_type": "code",
   "execution_count": 5,
   "metadata": {
    "nbpresent": {
     "id": "deec7624-81bf-436f-a0a6-eb19f9f8fd6d"
    }
   },
   "outputs": [
    {
     "data": {
      "text/html": [
       "<div>\n",
       "<style scoped>\n",
       "    .dataframe tbody tr th:only-of-type {\n",
       "        vertical-align: middle;\n",
       "    }\n",
       "\n",
       "    .dataframe tbody tr th {\n",
       "        vertical-align: top;\n",
       "    }\n",
       "\n",
       "    .dataframe thead th {\n",
       "        text-align: right;\n",
       "    }\n",
       "</style>\n",
       "<table border=\"1\" class=\"dataframe\">\n",
       "  <thead>\n",
       "    <tr style=\"text-align: right;\">\n",
       "      <th></th>\n",
       "      <th>id</th>\n",
       "      <th>comment_text</th>\n",
       "      <th>toxic</th>\n",
       "      <th>severe_toxic</th>\n",
       "      <th>obscene</th>\n",
       "      <th>threat</th>\n",
       "      <th>insult</th>\n",
       "      <th>identity_hate</th>\n",
       "    </tr>\n",
       "  </thead>\n",
       "  <tbody>\n",
       "    <tr>\n",
       "      <th>0</th>\n",
       "      <td>0000997932d777bf</td>\n",
       "      <td>Explanation\\nWhy the edits made under my usern...</td>\n",
       "      <td>0</td>\n",
       "      <td>0</td>\n",
       "      <td>0</td>\n",
       "      <td>0</td>\n",
       "      <td>0</td>\n",
       "      <td>0</td>\n",
       "    </tr>\n",
       "    <tr>\n",
       "      <th>1</th>\n",
       "      <td>000103f0d9cfb60f</td>\n",
       "      <td>D'aww! He matches this background colour I'm s...</td>\n",
       "      <td>0</td>\n",
       "      <td>0</td>\n",
       "      <td>0</td>\n",
       "      <td>0</td>\n",
       "      <td>0</td>\n",
       "      <td>0</td>\n",
       "    </tr>\n",
       "    <tr>\n",
       "      <th>2</th>\n",
       "      <td>000113f07ec002fd</td>\n",
       "      <td>Hey man, I'm really not trying to edit war. It...</td>\n",
       "      <td>0</td>\n",
       "      <td>0</td>\n",
       "      <td>0</td>\n",
       "      <td>0</td>\n",
       "      <td>0</td>\n",
       "      <td>0</td>\n",
       "    </tr>\n",
       "    <tr>\n",
       "      <th>3</th>\n",
       "      <td>0001b41b1c6bb37e</td>\n",
       "      <td>\"\\nMore\\nI can't make any real suggestions on ...</td>\n",
       "      <td>0</td>\n",
       "      <td>0</td>\n",
       "      <td>0</td>\n",
       "      <td>0</td>\n",
       "      <td>0</td>\n",
       "      <td>0</td>\n",
       "    </tr>\n",
       "    <tr>\n",
       "      <th>4</th>\n",
       "      <td>0001d958c54c6e35</td>\n",
       "      <td>You, sir, are my hero. Any chance you remember...</td>\n",
       "      <td>0</td>\n",
       "      <td>0</td>\n",
       "      <td>0</td>\n",
       "      <td>0</td>\n",
       "      <td>0</td>\n",
       "      <td>0</td>\n",
       "    </tr>\n",
       "  </tbody>\n",
       "</table>\n",
       "</div>"
      ],
      "text/plain": [
       "                 id                                       comment_text  toxic  \\\n",
       "0  0000997932d777bf  Explanation\\nWhy the edits made under my usern...      0   \n",
       "1  000103f0d9cfb60f  D'aww! He matches this background colour I'm s...      0   \n",
       "2  000113f07ec002fd  Hey man, I'm really not trying to edit war. It...      0   \n",
       "3  0001b41b1c6bb37e  \"\\nMore\\nI can't make any real suggestions on ...      0   \n",
       "4  0001d958c54c6e35  You, sir, are my hero. Any chance you remember...      0   \n",
       "\n",
       "   severe_toxic  obscene  threat  insult  identity_hate  \n",
       "0             0        0       0       0              0  \n",
       "1             0        0       0       0              0  \n",
       "2             0        0       0       0              0  \n",
       "3             0        0       0       0              0  \n",
       "4             0        0       0       0              0  "
      ]
     },
     "execution_count": 5,
     "metadata": {},
     "output_type": "execute_result"
    }
   ],
   "source": [
    "train.head()"
   ]
  },
  {
   "cell_type": "code",
   "execution_count": 6,
   "metadata": {
    "nbpresent": {
     "id": "fccefc6d-d05d-4d38-981b-ce3be66cee80"
    }
   },
   "outputs": [
    {
     "data": {
      "text/plain": [
       "Index(['toxic', 'severe_toxic', 'obscene', 'threat', 'insult',\n",
       "       'identity_hate'],\n",
       "      dtype='object')"
      ]
     },
     "execution_count": 6,
     "metadata": {},
     "output_type": "execute_result"
    }
   ],
   "source": [
    "train.columns[2:]"
   ]
  },
  {
   "cell_type": "code",
   "execution_count": 7,
   "metadata": {
    "nbpresent": {
     "id": "ccd549fc-2703-41a2-b3e2-c5b6729f4e72"
    }
   },
   "outputs": [],
   "source": [
    "def tokenize(s):\n",
    "    pattern = re.compile(f'([{string.punctuation}“”¨«»®´·º½¾¿¡§£₤‘’])')\n",
    "    return pattern.sub(r' \\1 ', s).split()"
   ]
  },
  {
   "cell_type": "code",
   "execution_count": 8,
   "metadata": {
    "nbpresent": {
     "id": "62bdab18-477c-4f8e-b896-0851af310c5f"
    }
   },
   "outputs": [],
   "source": [
    "X = train.comment_text.values\n",
    "idx = np.arange(len(X))"
   ]
  },
  {
   "cell_type": "code",
   "execution_count": 9,
   "metadata": {
    "nbpresent": {
     "id": "84596675-2568-467b-abc3-294db330965c"
    }
   },
   "outputs": [],
   "source": [
    "train['comment_text'].fillna(\"unknown\", inplace=True)\n",
    "test['comment_text'].fillna(\"unknown\", inplace=True)"
   ]
  },
  {
   "cell_type": "code",
   "execution_count": 10,
   "metadata": {
    "nbpresent": {
     "id": "f6f11cc4-98b8-4311-b575-8e6beab88bbd"
    }
   },
   "outputs": [],
   "source": [
    "X_train, X_test, idx_train, idx_test = train_test_split(X, idx, test_size=0.2)"
   ]
  },
  {
   "cell_type": "code",
   "execution_count": 11,
   "metadata": {
    "nbpresent": {
     "id": "5cef59c1-3184-439d-b1d2-f4ed35702afc"
    }
   },
   "outputs": [],
   "source": [
    "tfidf = TfidfVectorizer(ngram_range=(1,2), tokenizer=tokenize,\n",
    "                        min_df=3, max_df=0.9, strip_accents='unicode',\n",
    "                        use_idf=1, smooth_idf=1, sublinear_tf=1, stop_words='english')"
   ]
  },
  {
   "cell_type": "code",
   "execution_count": null,
   "metadata": {
    "nbpresent": {
     "id": "4d0a3c21-a28a-4416-8d08-ff3cf73d82ff"
    }
   },
   "outputs": [],
   "source": [
    "X_train_vec = tfidf.fit_transform(X_train)\n",
    "X_test_vec = tfidf.transform(X_test)"
   ]
  },
  {
   "cell_type": "code",
   "execution_count": null,
   "metadata": {
    "nbpresent": {
     "id": "39f19e82-b86d-47e8-832b-c6ac3b07d858"
    }
   },
   "outputs": [],
   "source": [
    "probs = np.zeros(shape=(len(X_test), 6))\n",
    "for i, col in enumerate(train.columns[2:]):\n",
    "    print(\"Training \", col)\n",
    "    y_train = train.loc[idx_train, col].values\n",
    "    y_test = train.loc[idx_test, col].values\n",
    "    nblog = NbLogisticClassifier()\n",
    "    nblog.fit(X_train_vec, y_train)\n",
    "    y_pred = nblog.predict_proba(X_test_vec)[:,1]\n",
    "    probs[:, i] = y_pred\n",
    "    auc = roc_auc_score(y_test, y_pred)\n",
    "    lg_loss = log_loss(y_test, y_pred)\n",
    "    print(\"{} auc: {}\".format(col, auc))\n",
    "    print(\"{} log loss: {}\".format(col, lg_loss))"
   ]
  },
  {
   "cell_type": "markdown",
   "metadata": {
    "nbpresent": {
     "id": "d0f7f288-7855-4dfd-b58a-0b8a071919bd"
    }
   },
   "source": [
    "\n",
    "# Pipelined version"
   ]
  },
  {
   "cell_type": "code",
   "execution_count": 14,
   "metadata": {},
   "outputs": [],
   "source": [
    "logistic_params = {\n",
    "    'penalty': ['l1', 'l2'],\n",
    "    'C': [100, 10, 1, 1e-1, 1e-2, 1e-3 ,1e-4, 1e-5]\n",
    "}"
   ]
  },
  {
   "cell_type": "code",
   "execution_count": 15,
   "metadata": {
    "nbpresent": {
     "id": "d961c923-3e6d-4742-8f20-c6268624c5b0"
    }
   },
   "outputs": [],
   "source": [
    "pipeline = Pipeline([\n",
    "    ('tfidf', TfidfVectorizer(tokenizer=tokenize, strip_accents='unicode', stop_words='english')),\n",
    "    ('one_vs_rest', OneVsRestClassifier(Pipeline([\n",
    "        ('naive_bayes_extractor', NBExtractor()),\n",
    "        ('logistic_regression', GridSearchCV(LogisticRegression(n_jobs=2, solver='saga'), logistic_params, verbose=True))\n",
    "    ])\n",
    "    )),\n",
    "])\n",
    "\n",
    "tfidf_params = {\n",
    "    'tfidf__ngram_range': [(1,2), (1,3)],\n",
    "    'tfidf__min_df': [3],\n",
    "    'tfidf__max_df': [0.9],\n",
    "    'tfidf__use_idf': [1],\n",
    "    'tfidf__smooth_idf': [1],\n",
    "    'tfidf__sublinear_tf': [1],\n",
    "    \n",
    "}\n"
   ]
  },
  {
   "cell_type": "code",
   "execution_count": 17,
   "metadata": {
    "nbpresent": {
     "id": "7295a8c4-e758-4dce-80c4-83890e1fdea8"
    }
   },
   "outputs": [],
   "source": [
    "clf = GridSearchCV(pipeline, tfidf_params, verbose=True, n_jobs=3)"
   ]
  },
  {
   "cell_type": "code",
   "execution_count": null,
   "metadata": {
    "nbpresent": {
     "id": "4c8f2f89-a298-4a3f-940f-fced437de4b9"
    }
   },
   "outputs": [
    {
     "name": "stdout",
     "output_type": "stream",
     "text": [
      "Fitting 3 folds for each of 1 candidates, totalling 3 fits\n",
      "Fitting 3 folds for each of 16 candidates, totalling 48 fits\n",
      "Fitting 3 folds for each of 16 candidates, totalling 48 fits\n",
      "Fitting 3 folds for each of 16 candidates, totalling 48 fits\n"
     ]
    }
   ],
   "source": [
    "best_model = clf.fit(X_train, train.loc[idx_train, train.columns[2:]].values)"
   ]
  },
  {
   "cell_type": "code",
   "execution_count": null,
   "metadata": {
    "nbpresent": {
     "id": "c364bd36-8ab9-435e-b1ae-ea0d33151bec"
    }
   },
   "outputs": [],
   "source": [
    "full_model = pipeline.fit(X_train, train.loc[idx_train, train.columns[2:]].values)"
   ]
  },
  {
   "cell_type": "code",
   "execution_count": null,
   "metadata": {
    "nbpresent": {
     "id": "233e1342-9905-44ac-84cd-3d2319875e38"
    }
   },
   "outputs": [],
   "source": [
    "full_model.predict(X_test)"
   ]
  },
  {
   "cell_type": "code",
   "execution_count": null,
   "metadata": {
    "nbpresent": {
     "id": "1af281bc-3c62-42e9-ae1b-7d59627d853c"
    }
   },
   "outputs": [],
   "source": [
    "preds = pd.DataFrame()\n",
    "preds['id'] = test.id"
   ]
  },
  {
   "cell_type": "code",
   "execution_count": null,
   "metadata": {
    "nbpresent": {
     "id": "3d6c2823-e6d8-420a-a92e-5f4404b68f64"
    }
   },
   "outputs": [],
   "source": [
    "X_train_vec = tfidf.fit_transform(X)\n",
    "X_test = test.comment_text.values\n",
    "X_test_vec = tfidf.transform(X_test)"
   ]
  },
  {
   "cell_type": "code",
   "execution_count": null,
   "metadata": {
    "nbpresent": {
     "id": "d40684ef-134e-4419-9fdc-1695ba3885d1"
    }
   },
   "outputs": [],
   "source": [
    "for col in train.columns[2:]:\n",
    "    print(\"Training \", col)\n",
    "    y_train = train.loc[:, col].values\n",
    "    nblog = NbLogisticClassifier(n_jobs=-1)\n",
    "    nblog.fit(X_train_vec, y_train)\n",
    "    preds[col] = nblog.predict_proba(X_test_vec)[:, 1]"
   ]
  },
  {
   "cell_type": "code",
   "execution_count": null,
   "metadata": {
    "nbpresent": {
     "id": "c9930b44-e941-4240-8625-428bcd3b0590"
    }
   },
   "outputs": [],
   "source": [
    "preds.to_csv('../submissions/nbsvm-baseline.csv', index=False)"
   ]
  },
  {
   "cell_type": "code",
   "execution_count": null,
   "metadata": {
    "nbpresent": {
     "id": "a3d53cc1-bf92-4b7c-9965-0bfa1caccd3e"
    }
   },
   "outputs": [],
   "source": [
    "sample = pd.read_csv('../data/sample_submission.csv').head()"
   ]
  },
  {
   "cell_type": "code",
   "execution_count": null,
   "metadata": {
    "nbpresent": {
     "id": "b5932540-0ca6-4124-b90a-acf79f394d62"
    }
   },
   "outputs": [],
   "source": [
    "pd.read_csv('../submissions/nbsvm-baseline.csv').head()"
   ]
  }
 ],
 "metadata": {
  "kernelspec": {
   "display_name": "Python [conda env:fastai]",
   "language": "python",
   "name": "conda-env-fastai-py"
  },
  "language_info": {
   "codemirror_mode": {
    "name": "ipython",
    "version": 3
   },
   "file_extension": ".py",
   "mimetype": "text/x-python",
   "name": "python",
   "nbconvert_exporter": "python",
   "pygments_lexer": "ipython3",
   "version": "3.6.4"
  }
 },
 "nbformat": 4,
 "nbformat_minor": 2
}
