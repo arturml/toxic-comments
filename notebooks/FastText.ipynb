{
 "cells": [
  {
   "cell_type": "code",
   "execution_count": 19,
   "metadata": {},
   "outputs": [],
   "source": [
    "import pandas as pd\n",
    "import numpy as np\n",
    "from sklearn.model_selection import train_test_split\n",
    "from sklearn.metrics import log_loss, roc_auc_score"
   ]
  },
  {
   "cell_type": "code",
   "execution_count": 2,
   "metadata": {},
   "outputs": [],
   "source": [
    "import os\n",
    "import sys\n",
    "import re\n",
    "import string\n",
    "src_dir = os.path.join(os.getcwd(), os.pardir, 'src')\n",
    "sys.path.append(src_dir)"
   ]
  },
  {
   "cell_type": "code",
   "execution_count": 3,
   "metadata": {},
   "outputs": [
    {
     "name": "stderr",
     "output_type": "stream",
     "text": [
      "/home/paperspace/anaconda3/envs/tensorflow/lib/python3.6/site-packages/h5py/__init__.py:36: FutureWarning: Conversion of the second argument of issubdtype from `float` to `np.floating` is deprecated. In future, it will be treated as `np.float64 == np.dtype(float).type`.\n",
      "  from ._conv import register_converters as _register_converters\n",
      "Using TensorFlow backend.\n"
     ]
    }
   ],
   "source": [
    "from keras.preprocessing import sequence\n",
    "from keras.preprocessing.text import Tokenizer\n",
    "from keras.models import Sequential\n",
    "from keras.layers import Dense, Embedding, GlobalAveragePooling1D\n",
    "from keras.callbacks import Callback, EarlyStopping, ModelCheckpoint, History, ReduceLROnPlateau"
   ]
  },
  {
   "cell_type": "code",
   "execution_count": 6,
   "metadata": {},
   "outputs": [],
   "source": [
    "def create_ngram_set(input_list, ngram_value=2):\n",
    "    \"\"\"\n",
    "    Extract a set of n-grams from a list of integers.\n",
    "    >>> create_ngram_set([1, 4, 9, 4, 1, 4], ngram_value=2)\n",
    "    {(4, 9), (4, 1), (1, 4), (9, 4)}\n",
    "    >>> create_ngram_set([1, 4, 9, 4, 1, 4], ngram_value=3)\n",
    "    [(1, 4, 9), (4, 9, 4), (9, 4, 1), (4, 1, 4)]\n",
    "    \"\"\"\n",
    "    return set(zip(*[input_list[i:] for i in range(ngram_value)]))\n",
    "\n",
    "\n",
    "def add_ngram(sequences, token_indice, ngram_range=2):\n",
    "    \"\"\"\n",
    "    Augment the input list of list (sequences) by appending n-grams values.\n",
    "    Example: adding bi-gram\n",
    "    >>> sequences = [[1, 3, 4, 5], [1, 3, 7, 9, 2]]\n",
    "    >>> token_indice = {(1, 3): 1337, (9, 2): 42, (4, 5): 2017}\n",
    "    >>> add_ngram(sequences, token_indice, ngram_range=2)\n",
    "    [[1, 3, 4, 5, 1337, 2017], [1, 3, 7, 9, 2, 1337, 42]]\n",
    "    Example: adding tri-gram\n",
    "    >>> sequences = [[1, 3, 4, 5], [1, 3, 7, 9, 2]]\n",
    "    >>> token_indice = {(1, 3): 1337, (9, 2): 42, (4, 5): 2017, (7, 9, 2): 2018}\n",
    "    >>> add_ngram(sequences, token_indice, ngram_range=3)\n",
    "    [[1, 3, 4, 5, 1337], [1, 3, 7, 9, 2, 1337, 2018]]\n",
    "    \"\"\"\n",
    "    new_sequences = []\n",
    "    for input_list in sequences:\n",
    "        new_list = input_list[:]\n",
    "        for i in range(len(new_list) - ngram_range + 1):\n",
    "            for ngram_value in range(2, ngram_range + 1):\n",
    "                ngram = tuple(new_list[i:i + ngram_value])\n",
    "                if ngram in token_indice:\n",
    "                    new_list.append(token_indice[ngram])\n",
    "        new_sequences.append(new_list)\n",
    "\n",
    "    return new_sequences\n"
   ]
  },
  {
   "cell_type": "code",
   "execution_count": 7,
   "metadata": {},
   "outputs": [],
   "source": [
    "ngram_range = 2\n",
    "max_features = 20000\n",
    "maxlen = 300\n",
    "embedding_dims = 60"
   ]
  },
  {
   "cell_type": "code",
   "execution_count": 8,
   "metadata": {},
   "outputs": [],
   "source": [
    "data = pd.read_csv('../data/train.csv')\n",
    "classes = ['toxic', 'severe_toxic', 'obscene', 'threat', 'insult', 'identity_hate']\n",
    "comments = data['comment_text'].fillna('UNK').values\n",
    "y = data[classes].values\n",
    "train_comments, val_comments, y_train, y_val = train_test_split(comments, y, test_size=0.1, random_state=42)"
   ]
  },
  {
   "cell_type": "code",
   "execution_count": 9,
   "metadata": {},
   "outputs": [],
   "source": [
    "tokenizer = Tokenizer(num_words = max_features)\n",
    "tokenizer.fit_on_texts(train_comments)"
   ]
  },
  {
   "cell_type": "code",
   "execution_count": 10,
   "metadata": {},
   "outputs": [],
   "source": [
    "X_train = tokenizer.texts_to_sequences(train_comments)\n",
    "X_val   = tokenizer.texts_to_sequences(val_comments)"
   ]
  },
  {
   "cell_type": "code",
   "execution_count": 11,
   "metadata": {},
   "outputs": [
    {
     "name": "stdout",
     "output_type": "stream",
     "text": [
      "143613 train sequences\n",
      "15958 test sequences\n",
      "Average train sequence length: 65\n",
      "Average test sequence length: 62\n"
     ]
    }
   ],
   "source": [
    "print(len(X_train), 'train sequences')\n",
    "print(len(X_val), 'test sequences')\n",
    "print('Average train sequence length: {}'.format(np.mean(list(map(len, X_train)), dtype=int)))\n",
    "print('Average test sequence length: {}'.format(np.mean(list(map(len, X_val)), dtype=int)))"
   ]
  },
  {
   "cell_type": "code",
   "execution_count": 12,
   "metadata": {},
   "outputs": [
    {
     "name": "stdout",
     "output_type": "stream",
     "text": [
      "Adding 2-gram features\n",
      "Average train sequence length: 130\n",
      "Average test sequence length: 117\n"
     ]
    }
   ],
   "source": [
    "print('Adding {}-gram features'.format(ngram_range))\n",
    "# Create set of unique n-gram from the training set.\n",
    "ngram_set = set()\n",
    "for input_list in X_train:\n",
    "    for i in range(2, ngram_range + 1):\n",
    "        set_of_ngram = create_ngram_set(input_list, ngram_value=i)\n",
    "        ngram_set.update(set_of_ngram)\n",
    "\n",
    "# Dictionary mapping n-gram token to a unique integer.\n",
    "# Integer values are greater than max_features in order\n",
    "# to avoid collision with existing features.\n",
    "start_index = max_features + 1\n",
    "token_indice = {v: k + start_index for k, v in enumerate(ngram_set)}\n",
    "indice_token = {token_indice[k]: k for k in token_indice}\n",
    "\n",
    "# max_features is the highest integer that could be found in the dataset.\n",
    "max_features = np.max(list(indice_token.keys())) + 1\n",
    "\n",
    "# Augmenting x_train and x_test with n-grams features\n",
    "X_train = add_ngram(X_train, token_indice, ngram_range)\n",
    "X_val = add_ngram(X_val, token_indice, ngram_range)\n",
    "print('Average train sequence length: {}'.format(np.mean(list(map(len, X_train)), dtype=int)))\n",
    "print('Average test sequence length: {}'.format(np.mean(list(map(len, X_val)), dtype=int)))"
   ]
  },
  {
   "cell_type": "code",
   "execution_count": 13,
   "metadata": {},
   "outputs": [
    {
     "name": "stdout",
     "output_type": "stream",
     "text": [
      "Pad sequences (samples x time)\n",
      "x_train shape: (143613, 300)\n",
      "x_test shape: (15958, 300)\n"
     ]
    }
   ],
   "source": [
    "print('Pad sequences (samples x time)')\n",
    "X_train = sequence.pad_sequences(X_train, maxlen=maxlen)\n",
    "X_val = sequence.pad_sequences(X_val, maxlen=maxlen)\n",
    "print('x_train shape:', X_train.shape)\n",
    "print('x_test shape:', X_val.shape)"
   ]
  },
  {
   "cell_type": "code",
   "execution_count": 42,
   "metadata": {},
   "outputs": [
    {
     "name": "stdout",
     "output_type": "stream",
     "text": [
      "Build model...\n"
     ]
    }
   ],
   "source": [
    "print('Build model...')\n",
    "model = Sequential()\n",
    "\n",
    "model.add(Embedding(max_features, embedding_dims, input_length=maxlen))\n",
    "model.add(GlobalAveragePooling1D())\n",
    "model.add(Dense(6, activation='sigmoid'))\n",
    "\n",
    "model.compile(loss='binary_crossentropy', optimizer='adam', metrics=['accuracy'])"
   ]
  },
  {
   "cell_type": "code",
   "execution_count": 30,
   "metadata": {},
   "outputs": [],
   "source": [
    "MODEL_PATH = '../models/fasttext.h5'"
   ]
  },
  {
   "cell_type": "code",
   "execution_count": 15,
   "metadata": {},
   "outputs": [],
   "source": [
    "class RocAucEvaluation(Callback):\n",
    "    def __init__(self, validation_data=(), interval=1):\n",
    "        super(Callback, self).__init__()\n",
    "\n",
    "        self.interval = interval\n",
    "        self.X_val, self.y_val = validation_data\n",
    "\n",
    "    def on_epoch_end(self, epoch, logs={}):\n",
    "        if epoch % self.interval == 0:\n",
    "            y_pred = self.model.predict(self.X_val, verbose=0)\n",
    "            score = roc_auc_score(self.y_val, y_pred)\n",
    "            print(\"\\n ROC-AUC - epoch: %d - score: %.6f \\n\" % (epoch+1, score))"
   ]
  },
  {
   "cell_type": "code",
   "execution_count": 17,
   "metadata": {},
   "outputs": [],
   "source": [
    "early_stopping = EarlyStopping(monitor='val_loss', patience=5)\n",
    "model_ckpt = ModelCheckpoint(filepath='../models/fasttext.h5', save_best_only=True)\n",
    "reduce_lr = ReduceLROnPlateau(monitor='val_loss', patience=3)\n",
    "history = History()\n",
    "auc_monitor = RocAucEvaluation(interval=1, validation_data=(X_val, y_val))\n",
    "callbacks = [model_ckpt, reduce_lr, early_stopping, history, auc_monitor]"
   ]
  },
  {
   "cell_type": "code",
   "execution_count": 20,
   "metadata": {
    "scrolled": false
   },
   "outputs": [
    {
     "name": "stdout",
     "output_type": "stream",
     "text": [
      "Train on 143613 samples, validate on 15958 samples\n",
      "Epoch 1/100\n",
      "143613/143613 [==============================] - 36s 250us/step - loss: 0.1477 - acc: 0.9634 - val_loss: 0.1348 - val_acc: 0.9641\n",
      "\n",
      " ROC-AUC - epoch: 1 - score: 0.830776 \n",
      "\n",
      "Epoch 2/100\n",
      "143613/143613 [==============================] - 36s 251us/step - loss: 0.1331 - acc: 0.9635 - val_loss: 0.1264 - val_acc: 0.9641\n",
      "\n",
      " ROC-AUC - epoch: 2 - score: 0.878487 \n",
      "\n",
      "Epoch 3/100\n",
      "143613/143613 [==============================] - 36s 250us/step - loss: 0.1245 - acc: 0.9636 - val_loss: 0.1205 - val_acc: 0.9641\n",
      "\n",
      " ROC-AUC - epoch: 3 - score: 0.890130 \n",
      "\n",
      "Epoch 4/100\n",
      "143613/143613 [==============================] - 36s 250us/step - loss: 0.1176 - acc: 0.9637 - val_loss: 0.1151 - val_acc: 0.9643\n",
      "\n",
      " ROC-AUC - epoch: 4 - score: 0.904015 \n",
      "\n",
      "Epoch 5/100\n",
      "143613/143613 [==============================] - 36s 250us/step - loss: 0.1106 - acc: 0.9640 - val_loss: 0.1092 - val_acc: 0.9646\n",
      "\n",
      " ROC-AUC - epoch: 5 - score: 0.915960 \n",
      "\n",
      "Epoch 6/100\n",
      "143613/143613 [==============================] - 36s 250us/step - loss: 0.1034 - acc: 0.9647 - val_loss: 0.1036 - val_acc: 0.9652\n",
      "\n",
      " ROC-AUC - epoch: 6 - score: 0.924669 \n",
      "\n",
      "Epoch 7/100\n",
      "143613/143613 [==============================] - 36s 250us/step - loss: 0.0966 - acc: 0.9661 - val_loss: 0.0985 - val_acc: 0.9662\n",
      "\n",
      " ROC-AUC - epoch: 7 - score: 0.930067 \n",
      "\n",
      "Epoch 8/100\n",
      "143613/143613 [==============================] - 36s 250us/step - loss: 0.0908 - acc: 0.9676 - val_loss: 0.0944 - val_acc: 0.9677\n",
      "\n",
      " ROC-AUC - epoch: 8 - score: 0.934046 \n",
      "\n",
      "Epoch 9/100\n",
      "143613/143613 [==============================] - 36s 249us/step - loss: 0.0858 - acc: 0.9692 - val_loss: 0.0911 - val_acc: 0.9688\n",
      "\n",
      " ROC-AUC - epoch: 9 - score: 0.937563 \n",
      "\n",
      "Epoch 10/100\n",
      "143613/143613 [==============================] - 36s 249us/step - loss: 0.0813 - acc: 0.9706 - val_loss: 0.0884 - val_acc: 0.9700\n",
      "\n",
      " ROC-AUC - epoch: 10 - score: 0.940268 \n",
      "\n",
      "Epoch 11/100\n",
      "143613/143613 [==============================] - 36s 249us/step - loss: 0.0774 - acc: 0.9720 - val_loss: 0.0861 - val_acc: 0.9708\n",
      "\n",
      " ROC-AUC - epoch: 11 - score: 0.942643 \n",
      "\n",
      "Epoch 12/100\n",
      "143613/143613 [==============================] - 36s 250us/step - loss: 0.0738 - acc: 0.9732 - val_loss: 0.0840 - val_acc: 0.9720\n",
      "\n",
      " ROC-AUC - epoch: 12 - score: 0.944165 \n",
      "\n",
      "Epoch 13/100\n",
      "143613/143613 [==============================] - 36s 249us/step - loss: 0.0705 - acc: 0.9745 - val_loss: 0.0822 - val_acc: 0.9730\n",
      "\n",
      " ROC-AUC - epoch: 13 - score: 0.945429 \n",
      "\n",
      "Epoch 14/100\n",
      "143613/143613 [==============================] - 36s 249us/step - loss: 0.0675 - acc: 0.9757 - val_loss: 0.0806 - val_acc: 0.9732\n",
      "\n",
      " ROC-AUC - epoch: 14 - score: 0.946862 \n",
      "\n",
      "Epoch 15/100\n",
      "143613/143613 [==============================] - 36s 249us/step - loss: 0.0646 - acc: 0.9768 - val_loss: 0.0793 - val_acc: 0.9739\n",
      "\n",
      " ROC-AUC - epoch: 15 - score: 0.947701 \n",
      "\n",
      "Epoch 16/100\n",
      "143613/143613 [==============================] - 36s 250us/step - loss: 0.0620 - acc: 0.9778 - val_loss: 0.0780 - val_acc: 0.9744\n",
      "\n",
      " ROC-AUC - epoch: 16 - score: 0.948775 \n",
      "\n",
      "Epoch 17/100\n",
      "143613/143613 [==============================] - 36s 249us/step - loss: 0.0595 - acc: 0.9788 - val_loss: 0.0766 - val_acc: 0.9754\n",
      "\n",
      " ROC-AUC - epoch: 17 - score: 0.949101 \n",
      "\n",
      "Epoch 18/100\n",
      "143613/143613 [==============================] - 36s 249us/step - loss: 0.0572 - acc: 0.9797 - val_loss: 0.0758 - val_acc: 0.9761\n",
      "\n",
      " ROC-AUC - epoch: 18 - score: 0.949218 \n",
      "\n",
      "Epoch 19/100\n",
      "143613/143613 [==============================] - 36s 249us/step - loss: 0.0551 - acc: 0.9805 - val_loss: 0.0753 - val_acc: 0.9760\n",
      "\n",
      " ROC-AUC - epoch: 19 - score: 0.950080 \n",
      "\n",
      "Epoch 20/100\n",
      "143613/143613 [==============================] - 36s 249us/step - loss: 0.0532 - acc: 0.9812 - val_loss: 0.0743 - val_acc: 0.9771\n",
      "\n",
      " ROC-AUC - epoch: 20 - score: 0.949918 \n",
      "\n",
      "Epoch 21/100\n",
      "143613/143613 [==============================] - 36s 249us/step - loss: 0.0513 - acc: 0.9820 - val_loss: 0.0736 - val_acc: 0.9776\n",
      "\n",
      " ROC-AUC - epoch: 21 - score: 0.950563 \n",
      "\n",
      "Epoch 22/100\n",
      "143613/143613 [==============================] - 36s 250us/step - loss: 0.0496 - acc: 0.9826 - val_loss: 0.0732 - val_acc: 0.9779\n",
      "\n",
      " ROC-AUC - epoch: 22 - score: 0.950796 \n",
      "\n",
      "Epoch 23/100\n",
      "143613/143613 [==============================] - 36s 250us/step - loss: 0.0480 - acc: 0.9832 - val_loss: 0.0729 - val_acc: 0.9780\n",
      "\n",
      " ROC-AUC - epoch: 23 - score: 0.950996 \n",
      "\n",
      "Epoch 24/100\n",
      "143613/143613 [==============================] - 36s 249us/step - loss: 0.0464 - acc: 0.9837 - val_loss: 0.0724 - val_acc: 0.9787\n",
      "\n",
      " ROC-AUC - epoch: 24 - score: 0.951270 \n",
      "\n",
      "Epoch 25/100\n",
      "143613/143613 [==============================] - 36s 249us/step - loss: 0.0450 - acc: 0.9843 - val_loss: 0.0724 - val_acc: 0.9789\n",
      "\n",
      " ROC-AUC - epoch: 25 - score: 0.951114 \n",
      "\n",
      "Epoch 26/100\n",
      "143613/143613 [==============================] - 36s 249us/step - loss: 0.0436 - acc: 0.9848 - val_loss: 0.0721 - val_acc: 0.9790\n",
      "\n",
      " ROC-AUC - epoch: 26 - score: 0.951373 \n",
      "\n",
      "Epoch 27/100\n",
      "143613/143613 [==============================] - 36s 249us/step - loss: 0.0423 - acc: 0.9853 - val_loss: 0.0723 - val_acc: 0.9790\n",
      "\n",
      " ROC-AUC - epoch: 27 - score: 0.951597 \n",
      "\n",
      "Epoch 28/100\n",
      "143613/143613 [==============================] - 36s 250us/step - loss: 0.0411 - acc: 0.9857 - val_loss: 0.0720 - val_acc: 0.9794\n",
      "\n",
      " ROC-AUC - epoch: 28 - score: 0.951908 \n",
      "\n",
      "Epoch 29/100\n",
      "143613/143613 [==============================] - 36s 249us/step - loss: 0.0399 - acc: 0.9862 - val_loss: 0.0721 - val_acc: 0.9797\n",
      "\n",
      " ROC-AUC - epoch: 29 - score: 0.952055 \n",
      "\n",
      "Epoch 30/100\n",
      "143613/143613 [==============================] - 36s 249us/step - loss: 0.0387 - acc: 0.9865 - val_loss: 0.0721 - val_acc: 0.9798\n",
      "\n",
      " ROC-AUC - epoch: 30 - score: 0.951992 \n",
      "\n",
      "Epoch 31/100\n",
      "143613/143613 [==============================] - 36s 249us/step - loss: 0.0376 - acc: 0.9869 - val_loss: 0.0721 - val_acc: 0.9801\n",
      "\n",
      " ROC-AUC - epoch: 31 - score: 0.952396 \n",
      "\n",
      "Epoch 32/100\n",
      "143613/143613 [==============================] - 36s 249us/step - loss: 0.0366 - acc: 0.9874 - val_loss: 0.0726 - val_acc: 0.9799\n",
      "\n",
      " ROC-AUC - epoch: 32 - score: 0.952850 \n",
      "\n",
      "Epoch 33/100\n",
      "143613/143613 [==============================] - 36s 250us/step - loss: 0.0356 - acc: 0.9878 - val_loss: 0.0726 - val_acc: 0.9800\n",
      "\n",
      " ROC-AUC - epoch: 33 - score: 0.952743 \n",
      "\n"
     ]
    },
    {
     "data": {
      "text/plain": [
       "<keras.callbacks.History at 0x7fdc20dc9da0>"
      ]
     },
     "execution_count": 20,
     "metadata": {},
     "output_type": "execute_result"
    }
   ],
   "source": [
    "model.fit(X_train, y_train, batch_size=512,  epochs=100, validation_data=(X_val, y_val), callbacks=callbacks)"
   ]
  },
  {
   "cell_type": "code",
   "execution_count": 24,
   "metadata": {},
   "outputs": [
    {
     "data": {
      "text/plain": [
       "<matplotlib.axes._subplots.AxesSubplot at 0x7fdc0e7c1c18>"
      ]
     },
     "execution_count": 24,
     "metadata": {},
     "output_type": "execute_result"
    },
    {
     "data": {
      "image/png": "[encoded data removed]",
      "text/plain": [
       "<matplotlib.figure.Figure at 0x7fdc0e7c1630>"
      ]
     },
     "metadata": {},
     "output_type": "display_data"
    }
   ],
   "source": [
    "%matplotlib inline\n",
    "pd.DataFrame(history.history).plot()"
   ]
  },
  {
   "cell_type": "code",
   "execution_count": 43,
   "metadata": {},
   "outputs": [],
   "source": [
    "model.load_weights('../models/fasttext.h5')"
   ]
  },
  {
   "cell_type": "code",
   "execution_count": 30,
   "metadata": {},
   "outputs": [
    {
     "name": "stdout",
     "output_type": "stream",
     "text": [
      "143613/143613 [==============================] - 4s 27us/step\n"
     ]
    }
   ],
   "source": [
    "y_pred_train = model.predict(X_train, verbose=1)"
   ]
  },
  {
   "cell_type": "code",
   "execution_count": 31,
   "metadata": {},
   "outputs": [
    {
     "data": {
      "text/plain": [
       "0.9862173175088156"
      ]
     },
     "execution_count": 31,
     "metadata": {},
     "output_type": "execute_result"
    }
   ],
   "source": [
    "roc_auc_score(y_train, y_pred_train)"
   ]
  },
  {
   "cell_type": "code",
   "execution_count": 54,
   "metadata": {},
   "outputs": [],
   "source": [
    "X = tokenizer.texts_to_sequences(data.comment_text.fillna('UNK').values)\n",
    "X = sequence.pad_sequences(X, maxlen=maxlen)"
   ]
  },
  {
   "cell_type": "code",
   "execution_count": 56,
   "metadata": {},
   "outputs": [
    {
     "data": {
      "text/html": [
       "<div>\n",
       "<style scoped>\n",
       "    .dataframe tbody tr th:only-of-type {\n",
       "        vertical-align: middle;\n",
       "    }\n",
       "\n",
       "    .dataframe tbody tr th {\n",
       "        vertical-align: top;\n",
       "    }\n",
       "\n",
       "    .dataframe thead th {\n",
       "        text-align: right;\n",
       "    }\n",
       "</style>\n",
       "<table border=\"1\" class=\"dataframe\">\n",
       "  <thead>\n",
       "    <tr style=\"text-align: right;\">\n",
       "      <th></th>\n",
       "      <th>id</th>\n",
       "      <th>toxic</th>\n",
       "      <th>severe_toxic</th>\n",
       "      <th>obscene</th>\n",
       "      <th>threat</th>\n",
       "      <th>insult</th>\n",
       "      <th>identity_hate</th>\n",
       "    </tr>\n",
       "  </thead>\n",
       "  <tbody>\n",
       "    <tr>\n",
       "      <th>0</th>\n",
       "      <td>0000997932d777bf</td>\n",
       "      <td>0.000578447</td>\n",
       "      <td>0.000367105</td>\n",
       "      <td>0.000257865</td>\n",
       "      <td>0.000748244</td>\n",
       "      <td>0.000309909</td>\n",
       "      <td>0.00129133</td>\n",
       "    </tr>\n",
       "    <tr>\n",
       "      <th>1</th>\n",
       "      <td>000103f0d9cfb60f</td>\n",
       "      <td>0.00930162</td>\n",
       "      <td>0.00278877</td>\n",
       "      <td>0.00400143</td>\n",
       "      <td>0.00231657</td>\n",
       "      <td>0.00431788</td>\n",
       "      <td>0.00493252</td>\n",
       "    </tr>\n",
       "    <tr>\n",
       "      <th>2</th>\n",
       "      <td>000113f07ec002fd</td>\n",
       "      <td>0.0243203</td>\n",
       "      <td>0.000890426</td>\n",
       "      <td>0.00468139</td>\n",
       "      <td>0.000977447</td>\n",
       "      <td>0.00430527</td>\n",
       "      <td>0.00239343</td>\n",
       "    </tr>\n",
       "    <tr>\n",
       "      <th>3</th>\n",
       "      <td>0001b41b1c6bb37e</td>\n",
       "      <td>2.8504e-06</td>\n",
       "      <td>1.97048e-06</td>\n",
       "      <td>6.93202e-07</td>\n",
       "      <td>3.69452e-05</td>\n",
       "      <td>1.07812e-06</td>\n",
       "      <td>4.93221e-05</td>\n",
       "    </tr>\n",
       "    <tr>\n",
       "      <th>4</th>\n",
       "      <td>0001d958c54c6e35</td>\n",
       "      <td>0.165686</td>\n",
       "      <td>0.009898</td>\n",
       "      <td>0.0524718</td>\n",
       "      <td>0.00425096</td>\n",
       "      <td>0.0491006</td>\n",
       "      <td>0.0115092</td>\n",
       "    </tr>\n",
       "  </tbody>\n",
       "</table>\n",
       "</div>"
      ],
      "text/plain": [
       "                 id        toxic severe_toxic      obscene       threat  \\\n",
       "0  0000997932d777bf  0.000578447  0.000367105  0.000257865  0.000748244   \n",
       "1  000103f0d9cfb60f   0.00930162   0.00278877   0.00400143   0.00231657   \n",
       "2  000113f07ec002fd    0.0243203  0.000890426   0.00468139  0.000977447   \n",
       "3  0001b41b1c6bb37e   2.8504e-06  1.97048e-06  6.93202e-07  3.69452e-05   \n",
       "4  0001d958c54c6e35     0.165686     0.009898    0.0524718   0.00425096   \n",
       "\n",
       "        insult identity_hate  \n",
       "0  0.000309909    0.00129133  \n",
       "1   0.00431788    0.00493252  \n",
       "2   0.00430527    0.00239343  \n",
       "3  1.07812e-06   4.93221e-05  \n",
       "4    0.0491006     0.0115092  "
      ]
     },
     "execution_count": 56,
     "metadata": {},
     "output_type": "execute_result"
    }
   ],
   "source": [
    "features = pd.DataFrame(columns=data.columns)\n",
    "features['id'] = data['id']\n",
    "features.loc[:, classes] = model.predict(X)\n",
    "features = features.drop('comment_text', axis=1)\n",
    "features.head()"
   ]
  },
  {
   "cell_type": "code",
   "execution_count": 57,
   "metadata": {},
   "outputs": [],
   "source": [
    "features.to_csv('../data/features/fasttext.csv', index=False)"
   ]
  },
  {
   "cell_type": "code",
   "execution_count": 32,
   "metadata": {},
   "outputs": [],
   "source": [
    "test = pd.read_csv('../data/test.csv')\n",
    "test_comments = test['comment_text'].fillna('UNK')\n",
    "test_sequences = tokenizer.texts_to_sequences(test_comments)\n",
    "X_test = sequence.pad_sequences(test_sequences, maxlen = maxlen)"
   ]
  },
  {
   "cell_type": "code",
   "execution_count": 33,
   "metadata": {},
   "outputs": [
    {
     "name": "stdout",
     "output_type": "stream",
     "text": [
      "153164/153164 [==============================] - 4s 29us/step\n"
     ]
    }
   ],
   "source": [
    "y_pred = model.predict(X_test, verbose=1)"
   ]
  },
  {
   "cell_type": "code",
   "execution_count": 34,
   "metadata": {},
   "outputs": [],
   "source": [
    "sub = pd.read_csv('../data/sample_submission.csv')\n",
    "sub.iloc[:, 1:] = y_pred\n",
    "sub.to_csv('../submissions/fasttext.csv', index=False)"
   ]
  },
  {
   "cell_type": "code",
   "execution_count": null,
   "metadata": {},
   "outputs": [],
   "source": []
  }
 ],
 "metadata": {
  "kernelspec": {
   "display_name": "Python [conda env:tensorflow]",
   "language": "python",
   "name": "conda-env-tensorflow-py"
  },
  "language_info": {
   "codemirror_mode": {
    "name": "ipython",
    "version": 3
   },
   "file_extension": ".py",
   "mimetype": "text/x-python",
   "name": "python",
   "nbconvert_exporter": "python",
   "pygments_lexer": "ipython3",
   "version": "3.6.4"
  }
 },
 "nbformat": 4,
 "nbformat_minor": 2
}
